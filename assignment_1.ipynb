{
  "nbformat": 4,
  "nbformat_minor": 0,
  "metadata": {
    "colab": {
      "provenance": [],
      "toc_visible": true
    },
    "kernelspec": {
      "name": "python3",
      "display_name": "Python 3"
    },
    "language_info": {
      "name": "python"
    }
  },
  "cells": [
    {
      "cell_type": "markdown",
      "source": [
        "1. What is Python, and why is it popular?\n",
        "-> python is a programming language which is popular because of it have alot of libraries , automation , and it is great for data science and ai.\n",
        "\n",
        "2. What is an interpreter in Python?\n",
        "-> An interpreter in Python is a program that reads and executes Python code line by line rather than compiling the entire code at once.\n",
        "\n",
        "3. What are pre-defined keywords in Python ?\n",
        "-> key words are predefined words that had a special meaning and have specific purpos.\n",
        "\n",
        "4. Can keywords be used as variable names ?\n",
        "-> yes, keywords can be used as variables but they will not run thier normal roles when assigned as variables , which will make the code not runable.\n",
        "\n",
        "\n",
        "5. What is mutability in Python ?\n",
        "-> the objects or containers whose state or value can be changed after they are created are called mutable.\n",
        "\n",
        "6. Why are lists mutable, but tuples are immutable ?\n",
        "-> lists are mutable because you can reassign the vales assinged in it but this cannot be done in case of tuple.\n",
        "\n",
        "7. What is the difference between “==” and “is” operators in Python ?\n",
        "-> \"==\" this Compares value where,\n",
        "   \"is\" this Compares identity (memory location)\n",
        "\n",
        "8. What are logical operators in Python?\n",
        "-> Logical operators in Python are used to combine multiple conditions (Boolean expressions) and return True or False based on the result.\n",
        "\n",
        "9. What is type casting in Python ?\n",
        "-> converts one data tyoe in another.\n",
        "\n",
        "10. What is the difference between implicit and explicit type casting?\n",
        "-> implicit: automatic,\n",
        "   explixit: manual.\n",
        "\n",
        "11. What is the purpose of conditional statements in Python?\n",
        "-> it helps you to code decision based on some precondition.\n",
        "\n",
        "12. How does the elif statement work?\n",
        "-> The elif statement in Python stands for \"else if\" and is used when you need to check multiple conditions sequentially.\n",
        "\n",
        "13. What is the difference between for and while loops?\n",
        "-> for: Used when the number of iterations is known,\n",
        "   while: Used when the number of iterations is unknown (runs until a condition is met).\n",
        "\n",
        "14. Describe a scenario where a while loop is more suitable than a for loop?\n",
        "-> Imagine you're waiting for a taxi using a ride-hailing app. The app keeps checking for an available driver until one is found.\n",
        "\n",
        "Since we don’t know how long it will take to find a taxi, a while loop is the best choice.\n",
        "\n"
      ],
      "metadata": {
        "id": "5a_a9sARqkr9"
      }
    },
    {
      "cell_type": "markdown",
      "source": [
        "# practical\n",
        "1. Write a Python program to print \"Hello, World!."
      ],
      "metadata": {
        "id": "ztWljzOiyW97"
      }
    },
    {
      "cell_type": "code",
      "source": [
        "print(\"Hello, World!\")\n"
      ],
      "metadata": {
        "colab": {
          "base_uri": "https://localhost:8080/"
        },
        "id": "LDH0LOc7yjyT",
        "outputId": "bea9c005-686e-4573-ca32-280affc05730"
      },
      "execution_count": 2,
      "outputs": [
        {
          "output_type": "stream",
          "name": "stdout",
          "text": [
            "Hello, World!\n"
          ]
        }
      ]
    },
    {
      "cell_type": "markdown",
      "source": [
        "2.8 Write a Python program that displays your name and age."
      ],
      "metadata": {
        "id": "Qc53Ub5jzALi"
      }
    },
    {
      "cell_type": "code",
      "source": [
        "name = \"Kartik\"\n",
        "age = 20\n",
        "print(\"My name is\", name)\n",
        "print(\"I am\", age, \"years old\")"
      ],
      "metadata": {
        "colab": {
          "base_uri": "https://localhost:8080/"
        },
        "id": "jSXCX5V2zZ6C",
        "outputId": "4c670e2a-febc-40bb-9083-8f1e1cbdfed0"
      },
      "execution_count": 4,
      "outputs": [
        {
          "output_type": "stream",
          "name": "stdout",
          "text": [
            "My name is Kartik\n",
            "I am 20 years old\n"
          ]
        }
      ]
    },
    {
      "cell_type": "markdown",
      "source": [
        "3.  Write code to print all the pre-defined keywords in Python using the keyword library."
      ],
      "metadata": {
        "id": "oS2DWDPaz3QK"
      }
    },
    {
      "cell_type": "code",
      "source": [
        "help('keywords')"
      ],
      "metadata": {
        "colab": {
          "base_uri": "https://localhost:8080/"
        },
        "id": "U1EsnCjIz7SK",
        "outputId": "dea6e0ce-fbef-45ea-fde0-f510fb77f8c4"
      },
      "execution_count": 5,
      "outputs": [
        {
          "output_type": "stream",
          "name": "stdout",
          "text": [
            "\n",
            "Here is a list of the Python keywords.  Enter any keyword to get more help.\n",
            "\n",
            "False               class               from                or\n",
            "None                continue            global              pass\n",
            "True                def                 if                  raise\n",
            "and                 del                 import              return\n",
            "as                  elif                in                  try\n",
            "assert              else                is                  while\n",
            "async               except              lambda              with\n",
            "await               finally             nonlocal            yield\n",
            "break               for                 not                 \n",
            "\n"
          ]
        }
      ]
    },
    {
      "cell_type": "markdown",
      "source": [
        "4. Write a program that checks if a given word is a Python keyword."
      ],
      "metadata": {
        "id": "IJJm5Cl20KU7"
      }
    },
    {
      "cell_type": "code",
      "source": [
        "import keyword\n",
        "word = input(\"Enter a word: \")\n",
        "if keyword.iskeyword(word):\n",
        "    print(f\"'{word}' is a Python keyword\")\n",
        "else:\n",
        "    print(f\"'{word}' is NOT a Python keyword\")"
      ],
      "metadata": {
        "colab": {
          "base_uri": "https://localhost:8080/"
        },
        "id": "NjHxWnxx0WTZ",
        "outputId": "73f2afd2-cc22-4061-8c01-444fc977e150"
      },
      "execution_count": 9,
      "outputs": [
        {
          "output_type": "stream",
          "name": "stdout",
          "text": [
            "Enter a word: for\n",
            "'for' is a Python keyword\n"
          ]
        }
      ]
    },
    {
      "cell_type": "markdown",
      "source": [
        "5.  Create a list and tuple in Python, and demonstrate how attempting to change an element works differently for each."
      ],
      "metadata": {
        "id": "63AzZIk11Pep"
      }
    },
    {
      "cell_type": "code",
      "source": [
        "list_1=[1,2,3,4,5,5+7j,True,\"deeep\"]\n",
        "tuple_1=(1,2,3,4,5,5+7j,True,\"deeep\")\n",
        "list_1[4] = 13\n",
        "print(list_1)\n",
        "tuple_1[2] = 12"
      ],
      "metadata": {
        "colab": {
          "base_uri": "https://localhost:8080/",
          "height": 193
        },
        "id": "UqnNAio11Z5x",
        "outputId": "589ed647-8035-4aeb-fdf2-41e9cb032bdd"
      },
      "execution_count": 13,
      "outputs": [
        {
          "output_type": "stream",
          "name": "stdout",
          "text": [
            "[1, 2, 3, 4, 13, (5+7j), True, 'deeep']\n"
          ]
        },
        {
          "output_type": "error",
          "ename": "TypeError",
          "evalue": "'tuple' object does not support item assignment",
          "traceback": [
            "\u001b[0;31m---------------------------------------------------------------------------\u001b[0m",
            "\u001b[0;31mTypeError\u001b[0m                                 Traceback (most recent call last)",
            "\u001b[0;32m<ipython-input-13-981c15362047>\u001b[0m in \u001b[0;36m<cell line: 0>\u001b[0;34m()\u001b[0m\n\u001b[1;32m      3\u001b[0m \u001b[0mlist_1\u001b[0m\u001b[0;34m[\u001b[0m\u001b[0;36m4\u001b[0m\u001b[0;34m]\u001b[0m \u001b[0;34m=\u001b[0m \u001b[0;36m13\u001b[0m\u001b[0;34m\u001b[0m\u001b[0;34m\u001b[0m\u001b[0m\n\u001b[1;32m      4\u001b[0m \u001b[0mprint\u001b[0m\u001b[0;34m(\u001b[0m\u001b[0mlist_1\u001b[0m\u001b[0;34m)\u001b[0m\u001b[0;34m\u001b[0m\u001b[0;34m\u001b[0m\u001b[0m\n\u001b[0;32m----> 5\u001b[0;31m \u001b[0mtuple_1\u001b[0m\u001b[0;34m[\u001b[0m\u001b[0;36m2\u001b[0m\u001b[0;34m]\u001b[0m \u001b[0;34m=\u001b[0m \u001b[0;36m12\u001b[0m\u001b[0;34m\u001b[0m\u001b[0;34m\u001b[0m\u001b[0m\n\u001b[0m",
            "\u001b[0;31mTypeError\u001b[0m: 'tuple' object does not support item assignment"
          ]
        }
      ]
    },
    {
      "cell_type": "markdown",
      "source": [
        "6. Write a function to demonstrate the behavior of mutable and immutable arguments."
      ],
      "metadata": {
        "id": "82ffjCqp2hK5"
      }
    },
    {
      "cell_type": "code",
      "source": [
        "num = 5\n",
        "print(\"\\nImmutable Example (Integer):\")\n",
        "my_list = [1, 2, 3]\n",
        "print(\"\\nMutable Example (List):\")"
      ],
      "metadata": {
        "colab": {
          "base_uri": "https://localhost:8080/"
        },
        "id": "hC_ahhAN2_q5",
        "outputId": "b8207a5f-4a00-4fd7-dc31-f56939108819"
      },
      "execution_count": 14,
      "outputs": [
        {
          "output_type": "stream",
          "name": "stdout",
          "text": [
            "\n",
            "Immutable Example (Integer):\n",
            "\n",
            "Mutable Example (List):\n"
          ]
        }
      ]
    },
    {
      "cell_type": "markdown",
      "source": [
        "7. Write a program that performs basic arithmetic operations on two user-input numbers."
      ],
      "metadata": {
        "id": "6-pxiO1d4HHR"
      }
    },
    {
      "cell_type": "code",
      "source": [
        "num1 = float(input(\"Enter first number: \"))\n",
        "num2 = float(input(\"Enter second number: \"))\n",
        "addition = num1 + num2\n",
        "subtraction = num1 - num2\n",
        "multiplication = num1 * num2\n",
        "\n",
        "print(f\"{num1} + {num2} = {addition}\")\n",
        "print(f\"{num1} - {num2} = {subtraction}\")\n",
        "print(f\"{num1} * {num2} = {multiplication}\")\n",
        "print(f\"{num1} / {num2} = {division}\")\n",
        "print(f\"{num1} % {num2} = {modulus}\")"
      ],
      "metadata": {
        "colab": {
          "base_uri": "https://localhost:8080/"
        },
        "id": "rzECYIYd4MKg",
        "outputId": "b4596dbd-596e-4e3c-f113-b36c42e2dc43"
      },
      "execution_count": 16,
      "outputs": [
        {
          "output_type": "stream",
          "name": "stdout",
          "text": [
            "Enter first number: 5\n",
            "Enter second number: 6\n",
            "5.0 + 6.0 = 11.0\n",
            "5.0 - 6.0 = -1.0\n",
            "5.0 * 6.0 = 30.0\n",
            "5.0 / 6.0 = 0.8\n",
            "5.0 % 6.0 = 4.0\n"
          ]
        }
      ]
    },
    {
      "cell_type": "markdown",
      "source": [
        "8. Write a program to demonstrate the use of logical operators."
      ],
      "metadata": {
        "id": "5dzyoQLx4z36"
      }
    },
    {
      "cell_type": "code",
      "source": [
        "a = True\n",
        "b = False\n",
        "\n",
        "print(\"a and b:\", a and b)\n",
        "print(\"a or b:\", a or b)\n",
        "print(\"not a:\", not a)"
      ],
      "metadata": {
        "colab": {
          "base_uri": "https://localhost:8080/"
        },
        "id": "ZUry6hB842dp",
        "outputId": "e8b97ff2-f1b6-4d2d-df63-fb9b9fe98688"
      },
      "execution_count": 17,
      "outputs": [
        {
          "output_type": "stream",
          "name": "stdout",
          "text": [
            "a and b: False\n",
            "a or b: True\n",
            "not a: False\n"
          ]
        }
      ]
    },
    {
      "cell_type": "markdown",
      "source": [
        "9. Write a Python program to convert user input from string to integer, float, and boolean types."
      ],
      "metadata": {
        "id": "ofrqK1w95bjg"
      }
    },
    {
      "cell_type": "code",
      "source": [
        "value = input(\"Enter a value: \")\n",
        "int_value = int(value)\n",
        "float_value = float(value)\n",
        "bool_value = bool(value)\n",
        "str_value = str(value)\n",
        "print(\"Integer:\", int_value)\n",
        "print(\"Float:\", float_value)\n",
        "print(\"Boolean:\", bool_value)\n",
        "print(\"String:\", str_value)"
      ],
      "metadata": {
        "colab": {
          "base_uri": "https://localhost:8080/"
        },
        "id": "7GFH-ZMX5fkY",
        "outputId": "43be4ebf-7adb-4d6c-adb2-290ec985ecb5"
      },
      "execution_count": 20,
      "outputs": [
        {
          "output_type": "stream",
          "name": "stdout",
          "text": [
            "Enter a value: 16\n",
            "Integer: 16\n",
            "Float: 16.0\n",
            "Boolean: True\n",
            "String: 16\n"
          ]
        }
      ]
    },
    {
      "cell_type": "markdown",
      "source": [
        "10. Write code to demonstrate type casting with list elements."
      ],
      "metadata": {
        "id": "Dkr_h5w86foQ"
      }
    },
    {
      "cell_type": "code",
      "source": [
        "list_2 = [\"10\", \"20\", \"30\", \"40.5\", \"50.7\"]\n",
        "int_list = [int(float(x)) for x in list_2]\n",
        "float_list = [float(x) for x in list_2]\n",
        "bool_list = [bool(x) for x in list_2]\n",
        "print(\"Original List:\", list_2)\n",
        "print(\"Integer List:\", int_list)\n",
        "print(\"Float List:\", float_list)\n",
        "print(\"Boolean List:\", bool_list)\n",
        "\n"
      ],
      "metadata": {
        "colab": {
          "base_uri": "https://localhost:8080/"
        },
        "id": "HWxVp4S365yI",
        "outputId": "d2096ede-f6b9-4f18-bffd-429dff77856f"
      },
      "execution_count": 23,
      "outputs": [
        {
          "output_type": "stream",
          "name": "stdout",
          "text": [
            "Original List: ['10', '20', '30', '40.5', '50.7']\n",
            "Integer List: [10, 20, 30, 40, 50]\n",
            "Float List: [10.0, 20.0, 30.0, 40.5, 50.7]\n",
            "Boolean List: [True, True, True, True, True]\n"
          ]
        }
      ]
    },
    {
      "cell_type": "markdown",
      "source": [
        "11. Write a program that checks if a number is positive, negative, or zero."
      ],
      "metadata": {
        "id": "fKjWav-n8B3A"
      }
    },
    {
      "cell_type": "code",
      "source": [
        "num = float(input(\"Enter a number: \"))\n",
        "if num > 0:\n",
        "    print(\"The number is Positive\")\n",
        "elif num < 0:\n",
        "    print(\"The number is Negative\")\n",
        "else:\n",
        "    print(\"The number is Zero\")"
      ],
      "metadata": {
        "colab": {
          "base_uri": "https://localhost:8080/"
        },
        "id": "R9Ll_X9R8KRE",
        "outputId": "482b7454-7268-4759-d6ea-1a30242ad700"
      },
      "execution_count": 24,
      "outputs": [
        {
          "output_type": "stream",
          "name": "stdout",
          "text": [
            "Enter a number: 22\n",
            "The number is Positive\n"
          ]
        }
      ]
    },
    {
      "cell_type": "markdown",
      "source": [
        "12. Write a for loop to print numbers from 1 to 10."
      ],
      "metadata": {
        "id": "S0ENe4IJ8Tnw"
      }
    },
    {
      "cell_type": "code",
      "source": [
        "for i in range(1,11):\n",
        "  if i == 11:\n",
        "    continue\n",
        "  print(i)"
      ],
      "metadata": {
        "colab": {
          "base_uri": "https://localhost:8080/"
        },
        "id": "Ln1XllUB8ZVo",
        "outputId": "83c88a18-bfc0-49a0-f2c4-1f8aca3d6e4c"
      },
      "execution_count": 26,
      "outputs": [
        {
          "output_type": "stream",
          "name": "stdout",
          "text": [
            "1\n",
            "2\n",
            "3\n",
            "4\n",
            "5\n",
            "6\n",
            "7\n",
            "8\n",
            "9\n",
            "10\n"
          ]
        }
      ]
    },
    {
      "cell_type": "markdown",
      "source": [
        "13. Write a Python program to find the sum of all even numbers between 1 and 50."
      ],
      "metadata": {
        "id": "5G0fg57D86F3"
      }
    },
    {
      "cell_type": "code",
      "source": [
        "sum_even = sum(num for num in range(1, 51) if num % 2 == 0)\n",
        "print(\"Sum of even numbers between 1 and 50:\", sum_even)"
      ],
      "metadata": {
        "colab": {
          "base_uri": "https://localhost:8080/"
        },
        "id": "SwfLHiqo9QLH",
        "outputId": "18788932-f773-4882-d09a-e5f3782bb27a"
      },
      "execution_count": 27,
      "outputs": [
        {
          "output_type": "stream",
          "name": "stdout",
          "text": [
            "Sum of even numbers between 1 and 50: 650\n"
          ]
        }
      ]
    },
    {
      "cell_type": "markdown",
      "source": [
        "14. Write a program to reverse a string using a while loop."
      ],
      "metadata": {
        "id": "e5bSrZQY9Pl3"
      }
    },
    {
      "cell_type": "code",
      "source": [
        "text = input(\"Enter a string: \")\n",
        "reversed_text = \"\"\n",
        "index = len(text)\n",
        "while index > 0:\n",
        "    index -= 1\n",
        "    reversed_text += text[index]\n",
        "print(\"Reversed string:\", reversed_text)"
      ],
      "metadata": {
        "colab": {
          "base_uri": "https://localhost:8080/"
        },
        "id": "nwayOZdU9gMn",
        "outputId": "7d0bba29-5bec-4bbb-c1f5-fd1cad0e7c32"
      },
      "execution_count": 28,
      "outputs": [
        {
          "output_type": "stream",
          "name": "stdout",
          "text": [
            "Enter a string: hello\n",
            "Reversed string: olleh\n"
          ]
        }
      ]
    },
    {
      "cell_type": "markdown",
      "source": [
        "15. Write a Python program to calculate the factorial of a number provided by the user using a while loop."
      ],
      "metadata": {
        "id": "vreYRrw-99lP"
      }
    },
    {
      "cell_type": "code",
      "source": [
        "num = int(input(\"Enter a number: \"))\n",
        "factorial = 1\n",
        "i = num\n",
        "while i > 0:\n",
        "    factorial *= i\n",
        "    i -= 1\n",
        "print(f\"Factorial of {num} is: {factorial}\")"
      ],
      "metadata": {
        "colab": {
          "base_uri": "https://localhost:8080/"
        },
        "id": "LdMzJAl096iw",
        "outputId": "0c686e2c-a0b1-4590-aece-d06eeea48308"
      },
      "execution_count": 29,
      "outputs": [
        {
          "output_type": "stream",
          "name": "stdout",
          "text": [
            "Enter a number: 5\n",
            "Factorial of 5 is: 120\n"
          ]
        }
      ]
    }
  ]
}